{
 "cells": [
  {
   "cell_type": "code",
   "execution_count": 1,
   "metadata": {},
   "outputs": [],
   "source": [
    "import pandas as pd"
   ]
  },
  {
   "cell_type": "markdown",
   "metadata": {},
   "source": [
    "### Data\n",
    "\n",
    "Dataset contain the data about projects funded by public budget or crowdfunding"
   ]
  },
  {
   "cell_type": "code",
   "execution_count": 2,
   "metadata": {},
   "outputs": [],
   "source": [
    "projects_df = pd.read_excel(\"new_data_cleared_v2.xlsx\", sheet_name = 'new_data')"
   ]
  },
  {
   "cell_type": "code",
   "execution_count": 3,
   "metadata": {},
   "outputs": [],
   "source": [
    "projects_df2 = pd.read_excel(\"new_data_cleared_v2.xlsx\", sheet_name = 'new_data (1)')"
   ]
  },
  {
   "cell_type": "code",
   "execution_count": 4,
   "metadata": {},
   "outputs": [],
   "source": [
    "projects_df2[\"collected_money\"] = projects_df2.expected_amount==projects_df2.collected_amount\n",
    "projects_df[\"collected_money\"] = projects_df.expected_amount==projects_df.collected_amount"
   ]
  },
  {
   "cell_type": "markdown",
   "metadata": {},
   "source": [
    "### Main difference between two sheets\n",
    "\n",
    "In the first dataset all project from 'Громадський бюджет' that collected money are successful. Will work with second one."
   ]
  },
  {
   "cell_type": "code",
   "execution_count": 5,
   "metadata": {},
   "outputs": [
    {
     "data": {
      "text/html": [
       "<div>\n",
       "<style scoped>\n",
       "    .dataframe tbody tr th:only-of-type {\n",
       "        vertical-align: middle;\n",
       "    }\n",
       "\n",
       "    .dataframe tbody tr th {\n",
       "        vertical-align: top;\n",
       "    }\n",
       "\n",
       "    .dataframe thead th {\n",
       "        text-align: right;\n",
       "    }\n",
       "</style>\n",
       "<table border=\"1\" class=\"dataframe\">\n",
       "  <thead>\n",
       "    <tr style=\"text-align: right;\">\n",
       "      <th></th>\n",
       "      <th></th>\n",
       "      <th></th>\n",
       "      <th>id</th>\n",
       "      <th>title</th>\n",
       "      <th>expected_amount</th>\n",
       "      <th>collected_amount</th>\n",
       "      <th>engaged_number</th>\n",
       "      <th>theme</th>\n",
       "      <th>location</th>\n",
       "      <th>platform</th>\n",
       "      <th>capital</th>\n",
       "      <th>year</th>\n",
       "    </tr>\n",
       "    <tr>\n",
       "      <th>collected_money</th>\n",
       "      <th>platform_type</th>\n",
       "      <th>status</th>\n",
       "      <th></th>\n",
       "      <th></th>\n",
       "      <th></th>\n",
       "      <th></th>\n",
       "      <th></th>\n",
       "      <th></th>\n",
       "      <th></th>\n",
       "      <th></th>\n",
       "      <th></th>\n",
       "      <th></th>\n",
       "    </tr>\n",
       "  </thead>\n",
       "  <tbody>\n",
       "    <tr>\n",
       "      <th rowspan=\"2\" valign=\"top\">False</th>\n",
       "      <th rowspan=\"2\" valign=\"top\">Краудфандинг</th>\n",
       "      <th>Неуспішний</th>\n",
       "      <td>603</td>\n",
       "      <td>603</td>\n",
       "      <td>603</td>\n",
       "      <td>603</td>\n",
       "      <td>603</td>\n",
       "      <td>573</td>\n",
       "      <td>29</td>\n",
       "      <td>603</td>\n",
       "      <td>603</td>\n",
       "      <td>603</td>\n",
       "    </tr>\n",
       "    <tr>\n",
       "      <th>Успішний</th>\n",
       "      <td>842</td>\n",
       "      <td>842</td>\n",
       "      <td>842</td>\n",
       "      <td>842</td>\n",
       "      <td>842</td>\n",
       "      <td>798</td>\n",
       "      <td>39</td>\n",
       "      <td>842</td>\n",
       "      <td>842</td>\n",
       "      <td>842</td>\n",
       "    </tr>\n",
       "    <tr>\n",
       "      <th rowspan=\"2\" valign=\"top\">True</th>\n",
       "      <th>Громадський бюджет</th>\n",
       "      <th>Успішний</th>\n",
       "      <td>14858</td>\n",
       "      <td>14858</td>\n",
       "      <td>14858</td>\n",
       "      <td>14858</td>\n",
       "      <td>14858</td>\n",
       "      <td>14270</td>\n",
       "      <td>14858</td>\n",
       "      <td>0</td>\n",
       "      <td>14858</td>\n",
       "      <td>14858</td>\n",
       "    </tr>\n",
       "    <tr>\n",
       "      <th>Краудфандинг</th>\n",
       "      <th>Успішний</th>\n",
       "      <td>328</td>\n",
       "      <td>328</td>\n",
       "      <td>328</td>\n",
       "      <td>328</td>\n",
       "      <td>328</td>\n",
       "      <td>314</td>\n",
       "      <td>14</td>\n",
       "      <td>328</td>\n",
       "      <td>328</td>\n",
       "      <td>328</td>\n",
       "    </tr>\n",
       "  </tbody>\n",
       "</table>\n",
       "</div>"
      ],
      "text/plain": [
       "                                                  id  title  expected_amount  \\\n",
       "collected_money platform_type      status                                      \n",
       "False           Краудфандинг       Неуспішний    603    603              603   \n",
       "                                   Успішний      842    842              842   \n",
       "True            Громадський бюджет Успішний    14858  14858            14858   \n",
       "                Краудфандинг       Успішний      328    328              328   \n",
       "\n",
       "                                               collected_amount  \\\n",
       "collected_money platform_type      status                         \n",
       "False           Краудфандинг       Неуспішний               603   \n",
       "                                   Успішний                 842   \n",
       "True            Громадський бюджет Успішний               14858   \n",
       "                Краудфандинг       Успішний                 328   \n",
       "\n",
       "                                               engaged_number  theme  \\\n",
       "collected_money platform_type      status                              \n",
       "False           Краудфандинг       Неуспішний             603    573   \n",
       "                                   Успішний               842    798   \n",
       "True            Громадський бюджет Успішний             14858  14270   \n",
       "                Краудфандинг       Успішний               328    314   \n",
       "\n",
       "                                               location  platform  capital  \\\n",
       "collected_money platform_type      status                                    \n",
       "False           Краудфандинг       Неуспішний        29       603      603   \n",
       "                                   Успішний          39       842      842   \n",
       "True            Громадський бюджет Успішний       14858         0    14858   \n",
       "                Краудфандинг       Успішний          14       328      328   \n",
       "\n",
       "                                                year  \n",
       "collected_money platform_type      status             \n",
       "False           Краудфандинг       Неуспішний    603  \n",
       "                                   Успішний      842  \n",
       "True            Громадський бюджет Успішний    14858  \n",
       "                Краудфандинг       Успішний      328  "
      ]
     },
     "execution_count": 5,
     "metadata": {},
     "output_type": "execute_result"
    }
   ],
   "source": [
    "projects_df.groupby([\"collected_money\", 'platform_type', \"status\"]).count()"
   ]
  },
  {
   "cell_type": "code",
   "execution_count": 6,
   "metadata": {},
   "outputs": [
    {
     "data": {
      "text/html": [
       "<div>\n",
       "<style scoped>\n",
       "    .dataframe tbody tr th:only-of-type {\n",
       "        vertical-align: middle;\n",
       "    }\n",
       "\n",
       "    .dataframe tbody tr th {\n",
       "        vertical-align: top;\n",
       "    }\n",
       "\n",
       "    .dataframe thead th {\n",
       "        text-align: right;\n",
       "    }\n",
       "</style>\n",
       "<table border=\"1\" class=\"dataframe\">\n",
       "  <thead>\n",
       "    <tr style=\"text-align: right;\">\n",
       "      <th></th>\n",
       "      <th></th>\n",
       "      <th></th>\n",
       "      <th>id</th>\n",
       "      <th>title</th>\n",
       "      <th>expected_amount</th>\n",
       "      <th>collected_amount</th>\n",
       "      <th>engaged_number</th>\n",
       "      <th>theme</th>\n",
       "      <th>location</th>\n",
       "      <th>platform</th>\n",
       "      <th>capital</th>\n",
       "      <th>year</th>\n",
       "      <th>location_year_id</th>\n",
       "      <th>region</th>\n",
       "    </tr>\n",
       "    <tr>\n",
       "      <th>collected_money</th>\n",
       "      <th>platform_type</th>\n",
       "      <th>status</th>\n",
       "      <th></th>\n",
       "      <th></th>\n",
       "      <th></th>\n",
       "      <th></th>\n",
       "      <th></th>\n",
       "      <th></th>\n",
       "      <th></th>\n",
       "      <th></th>\n",
       "      <th></th>\n",
       "      <th></th>\n",
       "      <th></th>\n",
       "      <th></th>\n",
       "    </tr>\n",
       "  </thead>\n",
       "  <tbody>\n",
       "    <tr>\n",
       "      <th rowspan=\"2\" valign=\"top\">False</th>\n",
       "      <th rowspan=\"2\" valign=\"top\">Краудфандинг</th>\n",
       "      <th>Неуспішний</th>\n",
       "      <td>603</td>\n",
       "      <td>603</td>\n",
       "      <td>603</td>\n",
       "      <td>603</td>\n",
       "      <td>603</td>\n",
       "      <td>573</td>\n",
       "      <td>243</td>\n",
       "      <td>603</td>\n",
       "      <td>603</td>\n",
       "      <td>603</td>\n",
       "      <td>603</td>\n",
       "      <td>243</td>\n",
       "    </tr>\n",
       "    <tr>\n",
       "      <th>Успішний</th>\n",
       "      <td>842</td>\n",
       "      <td>842</td>\n",
       "      <td>842</td>\n",
       "      <td>842</td>\n",
       "      <td>842</td>\n",
       "      <td>798</td>\n",
       "      <td>511</td>\n",
       "      <td>842</td>\n",
       "      <td>842</td>\n",
       "      <td>842</td>\n",
       "      <td>842</td>\n",
       "      <td>511</td>\n",
       "    </tr>\n",
       "    <tr>\n",
       "      <th rowspan=\"3\" valign=\"top\">True</th>\n",
       "      <th rowspan=\"2\" valign=\"top\">Громадський бюджет</th>\n",
       "      <th>Неуспішний</th>\n",
       "      <td>10157</td>\n",
       "      <td>10157</td>\n",
       "      <td>10157</td>\n",
       "      <td>10157</td>\n",
       "      <td>10157</td>\n",
       "      <td>9721</td>\n",
       "      <td>10157</td>\n",
       "      <td>0</td>\n",
       "      <td>10157</td>\n",
       "      <td>10157</td>\n",
       "      <td>10157</td>\n",
       "      <td>10157</td>\n",
       "    </tr>\n",
       "    <tr>\n",
       "      <th>Успішний</th>\n",
       "      <td>4312</td>\n",
       "      <td>4312</td>\n",
       "      <td>4312</td>\n",
       "      <td>4312</td>\n",
       "      <td>4312</td>\n",
       "      <td>4160</td>\n",
       "      <td>4312</td>\n",
       "      <td>0</td>\n",
       "      <td>4312</td>\n",
       "      <td>4312</td>\n",
       "      <td>4312</td>\n",
       "      <td>4312</td>\n",
       "    </tr>\n",
       "    <tr>\n",
       "      <th>Краудфандинг</th>\n",
       "      <th>Успішний</th>\n",
       "      <td>328</td>\n",
       "      <td>328</td>\n",
       "      <td>328</td>\n",
       "      <td>328</td>\n",
       "      <td>328</td>\n",
       "      <td>314</td>\n",
       "      <td>29</td>\n",
       "      <td>328</td>\n",
       "      <td>328</td>\n",
       "      <td>328</td>\n",
       "      <td>328</td>\n",
       "      <td>29</td>\n",
       "    </tr>\n",
       "  </tbody>\n",
       "</table>\n",
       "</div>"
      ],
      "text/plain": [
       "                                                  id  title  expected_amount  \\\n",
       "collected_money platform_type      status                                      \n",
       "False           Краудфандинг       Неуспішний    603    603              603   \n",
       "                                   Успішний      842    842              842   \n",
       "True            Громадський бюджет Неуспішний  10157  10157            10157   \n",
       "                                   Успішний     4312   4312             4312   \n",
       "                Краудфандинг       Успішний      328    328              328   \n",
       "\n",
       "                                               collected_amount  \\\n",
       "collected_money platform_type      status                         \n",
       "False           Краудфандинг       Неуспішний               603   \n",
       "                                   Успішний                 842   \n",
       "True            Громадський бюджет Неуспішний             10157   \n",
       "                                   Успішний                4312   \n",
       "                Краудфандинг       Успішний                 328   \n",
       "\n",
       "                                               engaged_number  theme  \\\n",
       "collected_money platform_type      status                              \n",
       "False           Краудфандинг       Неуспішний             603    573   \n",
       "                                   Успішний               842    798   \n",
       "True            Громадський бюджет Неуспішний           10157   9721   \n",
       "                                   Успішний              4312   4160   \n",
       "                Краудфандинг       Успішний               328    314   \n",
       "\n",
       "                                               location  platform  capital  \\\n",
       "collected_money platform_type      status                                    \n",
       "False           Краудфандинг       Неуспішний       243       603      603   \n",
       "                                   Успішний         511       842      842   \n",
       "True            Громадський бюджет Неуспішний     10157         0    10157   \n",
       "                                   Успішний        4312         0     4312   \n",
       "                Краудфандинг       Успішний          29       328      328   \n",
       "\n",
       "                                                year  location_year_id  region  \n",
       "collected_money platform_type      status                                       \n",
       "False           Краудфандинг       Неуспішний    603               603     243  \n",
       "                                   Успішний      842               842     511  \n",
       "True            Громадський бюджет Неуспішний  10157             10157   10157  \n",
       "                                   Успішний     4312              4312    4312  \n",
       "                Краудфандинг       Успішний      328               328      29  "
      ]
     },
     "execution_count": 6,
     "metadata": {},
     "output_type": "execute_result"
    }
   ],
   "source": [
    "projects_df2.groupby([\"collected_money\", 'platform_type', \"status\"]).count()"
   ]
  },
  {
   "cell_type": "markdown",
   "metadata": {},
   "source": [
    "### Shape and duplicates"
   ]
  },
  {
   "cell_type": "code",
   "execution_count": 7,
   "metadata": {},
   "outputs": [
    {
     "data": {
      "text/plain": [
       "(16242, 15)"
      ]
     },
     "execution_count": 7,
     "metadata": {},
     "output_type": "execute_result"
    }
   ],
   "source": [
    "projects_df2.shape"
   ]
  },
  {
   "cell_type": "code",
   "execution_count": 8,
   "metadata": {},
   "outputs": [
    {
     "data": {
      "text/html": [
       "<div>\n",
       "<style scoped>\n",
       "    .dataframe tbody tr th:only-of-type {\n",
       "        vertical-align: middle;\n",
       "    }\n",
       "\n",
       "    .dataframe tbody tr th {\n",
       "        vertical-align: top;\n",
       "    }\n",
       "\n",
       "    .dataframe thead th {\n",
       "        text-align: right;\n",
       "    }\n",
       "</style>\n",
       "<table border=\"1\" class=\"dataframe\">\n",
       "  <thead>\n",
       "    <tr style=\"text-align: right;\">\n",
       "      <th></th>\n",
       "      <th>id</th>\n",
       "      <th>title</th>\n",
       "      <th>status</th>\n",
       "      <th>expected_amount</th>\n",
       "      <th>collected_amount</th>\n",
       "      <th>engaged_number</th>\n",
       "      <th>theme</th>\n",
       "      <th>location</th>\n",
       "      <th>platform</th>\n",
       "      <th>platform_type</th>\n",
       "      <th>capital</th>\n",
       "      <th>year</th>\n",
       "      <th>location_year_id</th>\n",
       "      <th>region</th>\n",
       "      <th>collected_money</th>\n",
       "    </tr>\n",
       "  </thead>\n",
       "  <tbody>\n",
       "    <tr>\n",
       "      <th>0</th>\n",
       "      <td>https://budget.e-dem.ua/1810100000/project/12254</td>\n",
       "      <td>Реконструкція території благоустрою бульвару Н...</td>\n",
       "      <td>Неуспішний</td>\n",
       "      <td>18000000.0</td>\n",
       "      <td>18000000.0</td>\n",
       "      <td>456</td>\n",
       "      <td>Естетичне облаштування міста</td>\n",
       "      <td>Житомир</td>\n",
       "      <td>NaN</td>\n",
       "      <td>Громадський бюджет</td>\n",
       "      <td>Інфраструктурний</td>\n",
       "      <td>2020</td>\n",
       "      <td>Житомир2020</td>\n",
       "      <td>Житомирська</td>\n",
       "      <td>True</td>\n",
       "    </tr>\n",
       "    <tr>\n",
       "      <th>1</th>\n",
       "      <td>https://budget.e-dem.ua/1810100000/project/12252</td>\n",
       "      <td>Створення багатофункціонального громадського п...</td>\n",
       "      <td>Неуспішний</td>\n",
       "      <td>18000000.0</td>\n",
       "      <td>18000000.0</td>\n",
       "      <td>248</td>\n",
       "      <td>Інше</td>\n",
       "      <td>Житомир</td>\n",
       "      <td>NaN</td>\n",
       "      <td>Громадський бюджет</td>\n",
       "      <td>Інфраструктурний</td>\n",
       "      <td>2020</td>\n",
       "      <td>Житомир2020</td>\n",
       "      <td>Житомирська</td>\n",
       "      <td>True</td>\n",
       "    </tr>\n",
       "    <tr>\n",
       "      <th>2</th>\n",
       "      <td>https://budget.e-dem.ua/1810100000/project/12253</td>\n",
       "      <td>Реконструкція кінотеатру «Жовтень» у виставков...</td>\n",
       "      <td>Неуспішний</td>\n",
       "      <td>18000000.0</td>\n",
       "      <td>18000000.0</td>\n",
       "      <td>218</td>\n",
       "      <td>Інше</td>\n",
       "      <td>Житомир</td>\n",
       "      <td>NaN</td>\n",
       "      <td>Громадський бюджет</td>\n",
       "      <td>Інфраструктурний</td>\n",
       "      <td>2020</td>\n",
       "      <td>Житомир2020</td>\n",
       "      <td>Житомирська</td>\n",
       "      <td>True</td>\n",
       "    </tr>\n",
       "    <tr>\n",
       "      <th>3</th>\n",
       "      <td>https://budget.e-dem.ua/5300000000_vgb/project...</td>\n",
       "      <td>ВГБ. Впровадження сучасних інформаційних техно...</td>\n",
       "      <td>Успішний</td>\n",
       "      <td>13061664.0</td>\n",
       "      <td>13061664.0</td>\n",
       "      <td>8250</td>\n",
       "      <td>Безпека та громадський порядок</td>\n",
       "      <td>Полтава</td>\n",
       "      <td>NaN</td>\n",
       "      <td>Громадський бюджет</td>\n",
       "      <td>Інфраструктурний</td>\n",
       "      <td>2019</td>\n",
       "      <td>Полтава2019</td>\n",
       "      <td>Полтавська</td>\n",
       "      <td>True</td>\n",
       "    </tr>\n",
       "    <tr>\n",
       "      <th>4</th>\n",
       "      <td>https://budget.e-dem.ua/5300000000_vgb/project...</td>\n",
       "      <td>ВГБ. Капітальний ремонт проїзної частини дорог...</td>\n",
       "      <td>Неуспішний</td>\n",
       "      <td>10166606.0</td>\n",
       "      <td>10166606.0</td>\n",
       "      <td>1775</td>\n",
       "      <td>Інше</td>\n",
       "      <td>Полтава</td>\n",
       "      <td>NaN</td>\n",
       "      <td>Громадський бюджет</td>\n",
       "      <td>Інфраструктурний</td>\n",
       "      <td>2019</td>\n",
       "      <td>Полтава2019</td>\n",
       "      <td>Полтавська</td>\n",
       "      <td>True</td>\n",
       "    </tr>\n",
       "  </tbody>\n",
       "</table>\n",
       "</div>"
      ],
      "text/plain": [
       "                                                  id  \\\n",
       "0   https://budget.e-dem.ua/1810100000/project/12254   \n",
       "1   https://budget.e-dem.ua/1810100000/project/12252   \n",
       "2   https://budget.e-dem.ua/1810100000/project/12253   \n",
       "3  https://budget.e-dem.ua/5300000000_vgb/project...   \n",
       "4  https://budget.e-dem.ua/5300000000_vgb/project...   \n",
       "\n",
       "                                               title      status  \\\n",
       "0  Реконструкція території благоустрою бульвару Н...  Неуспішний   \n",
       "1  Створення багатофункціонального громадського п...  Неуспішний   \n",
       "2  Реконструкція кінотеатру «Жовтень» у виставков...  Неуспішний   \n",
       "3  ВГБ. Впровадження сучасних інформаційних техно...    Успішний   \n",
       "4  ВГБ. Капітальний ремонт проїзної частини дорог...  Неуспішний   \n",
       "\n",
       "   expected_amount  collected_amount  engaged_number  \\\n",
       "0       18000000.0        18000000.0             456   \n",
       "1       18000000.0        18000000.0             248   \n",
       "2       18000000.0        18000000.0             218   \n",
       "3       13061664.0        13061664.0            8250   \n",
       "4       10166606.0        10166606.0            1775   \n",
       "\n",
       "                            theme location platform       platform_type  \\\n",
       "0    Естетичне облаштування міста  Житомир      NaN  Громадський бюджет   \n",
       "1                            Інше  Житомир      NaN  Громадський бюджет   \n",
       "2                            Інше  Житомир      NaN  Громадський бюджет   \n",
       "3  Безпека та громадський порядок  Полтава      NaN  Громадський бюджет   \n",
       "4                            Інше  Полтава      NaN  Громадський бюджет   \n",
       "\n",
       "            capital  year location_year_id       region  collected_money  \n",
       "0  Інфраструктурний  2020      Житомир2020  Житомирська             True  \n",
       "1  Інфраструктурний  2020      Житомир2020  Житомирська             True  \n",
       "2  Інфраструктурний  2020      Житомир2020  Житомирська             True  \n",
       "3  Інфраструктурний  2019      Полтава2019   Полтавська             True  \n",
       "4  Інфраструктурний  2019      Полтава2019   Полтавська             True  "
      ]
     },
     "execution_count": 8,
     "metadata": {},
     "output_type": "execute_result"
    }
   ],
   "source": [
    "projects_df2.head()"
   ]
  },
  {
   "cell_type": "code",
   "execution_count": 9,
   "metadata": {},
   "outputs": [
    {
     "data": {
      "text/html": [
       "<div>\n",
       "<style scoped>\n",
       "    .dataframe tbody tr th:only-of-type {\n",
       "        vertical-align: middle;\n",
       "    }\n",
       "\n",
       "    .dataframe tbody tr th {\n",
       "        vertical-align: top;\n",
       "    }\n",
       "\n",
       "    .dataframe thead th {\n",
       "        text-align: right;\n",
       "    }\n",
       "</style>\n",
       "<table border=\"1\" class=\"dataframe\">\n",
       "  <thead>\n",
       "    <tr style=\"text-align: right;\">\n",
       "      <th></th>\n",
       "      <th>title</th>\n",
       "      <th>location</th>\n",
       "      <th>id</th>\n",
       "    </tr>\n",
       "  </thead>\n",
       "  <tbody>\n",
       "    <tr>\n",
       "      <th>28</th>\n",
       "      <td>\"ІНВАТАКСІ\" служба транспортного обслуговуванн...</td>\n",
       "      <td>Одеса</td>\n",
       "      <td>2</td>\n",
       "    </tr>\n",
       "    <tr>\n",
       "      <th>253</th>\n",
       "      <td>\"Ужгород - гуманне місто\"</td>\n",
       "      <td>Ужгород</td>\n",
       "      <td>2</td>\n",
       "    </tr>\n",
       "    <tr>\n",
       "      <th>273</th>\n",
       "      <td>#МістоNEWS</td>\n",
       "      <td>Луцьк</td>\n",
       "      <td>2</td>\n",
       "    </tr>\n",
       "    <tr>\n",
       "      <th>287</th>\n",
       "      <td>1 ЗАТИШНИЙ ДВІР</td>\n",
       "      <td>Павлоград</td>\n",
       "      <td>2</td>\n",
       "    </tr>\n",
       "    <tr>\n",
       "      <th>493</th>\n",
       "      <td>2 СВІТ ДОБРА</td>\n",
       "      <td>Павлоград</td>\n",
       "      <td>2</td>\n",
       "    </tr>\n",
       "    <tr>\n",
       "      <th>...</th>\n",
       "      <td>...</td>\n",
       "      <td>...</td>\n",
       "      <td>...</td>\n",
       "    </tr>\n",
       "    <tr>\n",
       "      <th>13710</th>\n",
       "      <td>Улаштування дитячого ігрового майданчика для д...</td>\n",
       "      <td>Миколаїв</td>\n",
       "      <td>2</td>\n",
       "    </tr>\n",
       "    <tr>\n",
       "      <th>13801</th>\n",
       "      <td>Урны для собак</td>\n",
       "      <td>Одеса</td>\n",
       "      <td>3</td>\n",
       "    </tr>\n",
       "    <tr>\n",
       "      <th>14073</th>\n",
       "      <td>Фітнес містечко WorkOut</td>\n",
       "      <td>Мелітополь</td>\n",
       "      <td>2</td>\n",
       "    </tr>\n",
       "    <tr>\n",
       "      <th>14282</th>\n",
       "      <td>Чисте суспільство</td>\n",
       "      <td>Миколаїв</td>\n",
       "      <td>2</td>\n",
       "    </tr>\n",
       "    <tr>\n",
       "      <th>14484</th>\n",
       "      <td>Щасливе дитинство</td>\n",
       "      <td>Миколаїв</td>\n",
       "      <td>2</td>\n",
       "    </tr>\n",
       "  </tbody>\n",
       "</table>\n",
       "<p>116 rows × 3 columns</p>\n",
       "</div>"
      ],
      "text/plain": [
       "                                                   title    location  id\n",
       "28     \"ІНВАТАКСІ\" служба транспортного обслуговуванн...       Одеса   2\n",
       "253                            \"Ужгород - гуманне місто\"     Ужгород   2\n",
       "273                                           #МістоNEWS       Луцьк   2\n",
       "287                                      1 ЗАТИШНИЙ ДВІР   Павлоград   2\n",
       "493                                         2 СВІТ ДОБРА   Павлоград   2\n",
       "...                                                  ...         ...  ..\n",
       "13710  Улаштування дитячого ігрового майданчика для д...    Миколаїв   2\n",
       "13801                                     Урны для собак       Одеса   3\n",
       "14073                            Фітнес містечко WorkOut  Мелітополь   2\n",
       "14282                                  Чисте суспільство    Миколаїв   2\n",
       "14484                                  Щасливе дитинство    Миколаїв   2\n",
       "\n",
       "[116 rows x 3 columns]"
      ]
     },
     "execution_count": 9,
     "metadata": {},
     "output_type": "execute_result"
    }
   ],
   "source": [
    "duplicates_count = projects_df2.groupby([\"title\", \"location\"])[[\"id\"]].count().reset_index()\n",
    "duplicates_count = duplicates_count[duplicates_count[\"id\"]>1]\n",
    "duplicates_count"
   ]
  },
  {
   "cell_type": "code",
   "execution_count": 10,
   "metadata": {},
   "outputs": [
    {
     "data": {
      "text/plain": [
       "Неуспішний    191\n",
       "Успішний       70\n",
       "Name: status, dtype: int64"
      ]
     },
     "execution_count": 10,
     "metadata": {},
     "output_type": "execute_result"
    }
   ],
   "source": [
    "projects_df2[projects_df2.title.isin(duplicates_count.title)].status.value_counts(dropna = False)"
   ]
  },
  {
   "cell_type": "code",
   "execution_count": 11,
   "metadata": {},
   "outputs": [
    {
     "name": "stdout",
     "output_type": "stream",
     "text": [
      "(16242, 15)\n",
      "(15981, 15)\n"
     ]
    }
   ],
   "source": [
    "print(projects_df2.shape)\n",
    "projects_df2 = projects_df2[~projects_df2.title.isin(duplicates_count.title)]\n",
    "print(projects_df2.shape)"
   ]
  },
  {
   "cell_type": "markdown",
   "metadata": {},
   "source": [
    "### Fillness of the data"
   ]
  },
  {
   "cell_type": "code",
   "execution_count": 12,
   "metadata": {},
   "outputs": [
    {
     "data": {
      "text/plain": [
       "NaN            14214\n",
       "Велика Ідея      807\n",
       "UBB              347\n",
       "GoFundEd         218\n",
       "na-starte        134\n",
       "RazomGo           77\n",
       "Мой город         77\n",
       "komubook          54\n",
       "Zmist             53\n",
       "Name: platform, dtype: int64"
      ]
     },
     "execution_count": 12,
     "metadata": {},
     "output_type": "execute_result"
    }
   ],
   "source": [
    "projects_df2.platform.value_counts(dropna = False)"
   ]
  },
  {
   "cell_type": "code",
   "execution_count": 13,
   "metadata": {},
   "outputs": [],
   "source": [
    "projects_df2.platform = projects_df2.platform.fillna(\"Unknown\")"
   ]
  },
  {
   "cell_type": "code",
   "execution_count": 14,
   "metadata": {},
   "outputs": [
    {
     "data": {
      "text/plain": [
       "Громадський бюджет    14214\n",
       "Краудфандинг           1767\n",
       "Name: platform_type, dtype: int64"
      ]
     },
     "execution_count": 14,
     "metadata": {},
     "output_type": "execute_result"
    }
   ],
   "source": [
    "projects_df2.platform_type.value_counts(dropna = False)"
   ]
  },
  {
   "cell_type": "code",
   "execution_count": 15,
   "metadata": {},
   "outputs": [
    {
     "data": {
      "text/plain": [
       "Інфраструктурний    10014\n",
       "Людський             3234\n",
       "Культурний           1842\n",
       "Соціальний            891\n",
       "Name: capital, dtype: int64"
      ]
     },
     "execution_count": 15,
     "metadata": {},
     "output_type": "execute_result"
    }
   ],
   "source": [
    "projects_df2.capital.value_counts(dropna = False)"
   ]
  },
  {
   "cell_type": "code",
   "execution_count": 16,
   "metadata": {},
   "outputs": [
    {
     "data": {
      "text/plain": [
       "2019    4151\n",
       "2018    3354\n",
       "2021    3113\n",
       "2017    2527\n",
       "2020    1420\n",
       "2016    1090\n",
       "2014     124\n",
       "2015     100\n",
       "2013      55\n",
       "2012      47\n",
       "Name: year, dtype: int64"
      ]
     },
     "execution_count": 16,
     "metadata": {},
     "output_type": "execute_result"
    }
   ],
   "source": [
    "projects_df2.year.value_counts(dropna = False)"
   ]
  },
  {
   "cell_type": "code",
   "execution_count": 17,
   "metadata": {},
   "outputs": [
    {
     "data": {
      "text/plain": [
       "Київ                 4541\n",
       "Дніпропетровська     2388\n",
       "Львівська            1091\n",
       "NaN                   990\n",
       "Полтавська            967\n",
       "Запорізька            780\n",
       "Івано-Франківська     650\n",
       "Одеська               627\n",
       "Донецька              504\n",
       "Тернопільська         363\n",
       "Миколаївська          305\n",
       "Чернігівська          302\n",
       "Кіровоградська        278\n",
       "Чернівецька           268\n",
       "Рівненська            258\n",
       "Харківська            230\n",
       "Хмельницька           226\n",
       "Вінницька             223\n",
       "Волинська             221\n",
       "Луганська             203\n",
       "Херсонська            158\n",
       "Житомирська           142\n",
       "Сумська               123\n",
       "Закарпатська           73\n",
       "Київська               56\n",
       "Черкаська              14\n",
       "Name: region, dtype: int64"
      ]
     },
     "execution_count": 17,
     "metadata": {},
     "output_type": "execute_result"
    }
   ],
   "source": [
    "projects_df2.region.value_counts(dropna = False)"
   ]
  },
  {
   "cell_type": "code",
   "execution_count": 18,
   "metadata": {},
   "outputs": [],
   "source": [
    "projects_df2.region = projects_df2.region.fillna(\"Unknown\")"
   ]
  },
  {
   "cell_type": "code",
   "execution_count": 19,
   "metadata": {
    "tags": []
   },
   "outputs": [
    {
     "data": {
      "text/plain": [
       "Київ                4541\n",
       "Дніпро              1418\n",
       "Львів               1091\n",
       "NaN                  990\n",
       "Полтава              746\n",
       "Івано-Франківськ     650\n",
       "Одеса                627\n",
       "Кривий Ріг           374\n",
       "Тернопіль            363\n",
       "Кам’янське           331\n",
       "Мелітополь           310\n",
       "Миколаїв             305\n",
       "Чернігів             302\n",
       "Запоріжжя            287\n",
       "Кропивницький        278\n",
       "Маріуполь            277\n",
       "Чернівці             268\n",
       "Рівне                258\n",
       "Харків               230\n",
       "Хмельницький         226\n",
       "Вінниця              223\n",
       "Кременчук            221\n",
       "Луцьк                221\n",
       "Сєвєродонецьк        203\n",
       "Нікополь             183\n",
       "Бердянськ            183\n",
       "Херсон               158\n",
       "Житомир              142\n",
       "Краматорськ          127\n",
       "Суми                 123\n",
       "Слов'янськ           100\n",
       "Павлоград             82\n",
       "Ужгород               73\n",
       "Біла Церква           56\n",
       "Черкаси               14\n",
       "Name: location, dtype: int64"
      ]
     },
     "execution_count": 19,
     "metadata": {},
     "output_type": "execute_result"
    }
   ],
   "source": [
    "projects_df2.location.value_counts(dropna = False)"
   ]
  },
  {
   "cell_type": "code",
   "execution_count": 20,
   "metadata": {},
   "outputs": [],
   "source": [
    "projects_df2.location = projects_df2.location.fillna(\"Unknown\")"
   ]
  },
  {
   "cell_type": "markdown",
   "metadata": {},
   "source": [
    "### Save with needed columns"
   ]
  },
  {
   "cell_type": "code",
   "execution_count": 22,
   "metadata": {},
   "outputs": [],
   "source": [
    "status_map = {'Неуспішний':0, 'Успішний':1}\n",
    "projects_df2[\"status_num\"] = projects_df2[\"status\"].map(status_map)"
   ]
  },
  {
   "cell_type": "code",
   "execution_count": 23,
   "metadata": {},
   "outputs": [
    {
     "data": {
      "text/plain": [
       "Index(['id', 'title', 'status', 'expected_amount', 'collected_amount',\n",
       "       'engaged_number', 'theme', 'location', 'platform', 'platform_type',\n",
       "       'capital', 'year', 'location_year_id', 'region', 'collected_money',\n",
       "       'status_num'],\n",
       "      dtype='object')"
      ]
     },
     "execution_count": 23,
     "metadata": {},
     "output_type": "execute_result"
    }
   ],
   "source": [
    "projects_df2.columns"
   ]
  },
  {
   "cell_type": "code",
   "execution_count": 24,
   "metadata": {},
   "outputs": [],
   "source": [
    "projects_df2[['status_num', 'expected_amount', 'location', 'platform', 'platform_type','capital', 'year']].to_csv(\"cleaned_public_projects.csv\", index = False)"
   ]
  },
  {
   "cell_type": "code",
   "execution_count": null,
   "metadata": {},
   "outputs": [],
   "source": []
  }
 ],
 "metadata": {
  "kernelspec": {
   "display_name": "Python 3",
   "language": "python",
   "name": "python3"
  },
  "language_info": {
   "codemirror_mode": {
    "name": "ipython",
    "version": 3
   },
   "file_extension": ".py",
   "mimetype": "text/x-python",
   "name": "python",
   "nbconvert_exporter": "python",
   "pygments_lexer": "ipython3",
   "version": "3.8.10"
  }
 },
 "nbformat": 4,
 "nbformat_minor": 4
}
